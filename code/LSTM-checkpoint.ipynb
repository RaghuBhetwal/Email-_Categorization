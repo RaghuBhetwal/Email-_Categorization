{
 "cells": [
  {
   "cell_type": "code",
   "execution_count": 1,
   "id": "4ec22d4a",
   "metadata": {},
   "outputs": [],
   "source": [
    "import pandas as pd\n",
    "from sklearn.model_selection import train_test_split\n",
    "from sklearn.feature_extraction.text import TfidfVectorizer\n",
    "from sklearn.naive_bayes import MultinomialNB\n",
    "from sklearn.metrics import classification_report, accuracy_score, precision_score, recall_score, f1_score\n",
    "import re\n",
    "from nltk.corpus import stopwords\n",
    "from nltk.tokenize import word_tokenize\n",
    "from nltk.stem import WordNetLemmatizer"
   ]
  },
  {
   "cell_type": "code",
   "execution_count": 2,
   "id": "aba9b2b8",
   "metadata": {},
   "outputs": [],
   "source": [
    "data = pd.read_csv(\"selected_data.csv\")"
   ]
  },
  {
   "cell_type": "code",
   "execution_count": 3,
   "id": "237debea",
   "metadata": {},
   "outputs": [
    {
     "data": {
      "text/html": [
       "<div>\n",
       "<style scoped>\n",
       "    .dataframe tbody tr th:only-of-type {\n",
       "        vertical-align: middle;\n",
       "    }\n",
       "\n",
       "    .dataframe tbody tr th {\n",
       "        vertical-align: top;\n",
       "    }\n",
       "\n",
       "    .dataframe thead th {\n",
       "        text-align: right;\n",
       "    }\n",
       "</style>\n",
       "<table border=\"1\" class=\"dataframe\">\n",
       "  <thead>\n",
       "    <tr style=\"text-align: right;\">\n",
       "      <th></th>\n",
       "      <th>message</th>\n",
       "      <th>Subject</th>\n",
       "      <th>From</th>\n",
       "      <th>To</th>\n",
       "      <th>body</th>\n",
       "      <th>user</th>\n",
       "    </tr>\n",
       "  </thead>\n",
       "  <tbody>\n",
       "    <tr>\n",
       "      <th>0</th>\n",
       "      <td>Message-ID: &lt;14286989.1075855666059.JavaMail.e...</td>\n",
       "      <td>Re: Enron Response to San Diego Request for Ga...</td>\n",
       "      <td>stephanie.miller@enron.com</td>\n",
       "      <td>jeff.dasovich@enron.com</td>\n",
       "      <td>Any merit to mentioning that there has been an...</td>\n",
       "      <td>allen-p</td>\n",
       "    </tr>\n",
       "    <tr>\n",
       "      <th>1</th>\n",
       "      <td>Message-ID: &lt;1735118.1075855679365.JavaMail.ev...</td>\n",
       "      <td>Re: Enron Response to San Diego Request for Ga...</td>\n",
       "      <td>stephanie.miller@enron.com</td>\n",
       "      <td>jeff.dasovich@enron.com</td>\n",
       "      <td>Any merit to mentioning that there has been an...</td>\n",
       "      <td>allen-p</td>\n",
       "    </tr>\n",
       "  </tbody>\n",
       "</table>\n",
       "</div>"
      ],
      "text/plain": [
       "                                             message  \\\n",
       "0  Message-ID: <14286989.1075855666059.JavaMail.e...   \n",
       "1  Message-ID: <1735118.1075855679365.JavaMail.ev...   \n",
       "\n",
       "                                             Subject  \\\n",
       "0  Re: Enron Response to San Diego Request for Ga...   \n",
       "1  Re: Enron Response to San Diego Request for Ga...   \n",
       "\n",
       "                         From                       To  \\\n",
       "0  stephanie.miller@enron.com  jeff.dasovich@enron.com   \n",
       "1  stephanie.miller@enron.com  jeff.dasovich@enron.com   \n",
       "\n",
       "                                                body     user  \n",
       "0  Any merit to mentioning that there has been an...  allen-p  \n",
       "1  Any merit to mentioning that there has been an...  allen-p  "
      ]
     },
     "execution_count": 3,
     "metadata": {},
     "output_type": "execute_result"
    }
   ],
   "source": [
    "data.head(2)"
   ]
  },
  {
   "cell_type": "code",
   "execution_count": 4,
   "id": "bc47d085",
   "metadata": {},
   "outputs": [],
   "source": [
    "import pandas as pd\n",
    "import numpy as np\n",
    "import tensorflow as tf\n",
    "from sklearn.model_selection import train_test_split\n",
    "from sklearn.preprocessing import LabelEncoder\n",
    "from tensorflow.keras.preprocessing.text import Tokenizer\n",
    "from tensorflow.keras.preprocessing.sequence import pad_sequences\n",
    "from tensorflow.keras.models import Sequential\n",
    "from tensorflow.keras.layers import Embedding, LSTM, Dense\n",
    "from nltk.corpus import stopwords\n",
    "from nltk.stem import WordNetLemmatizer\n",
    "from nltk.tokenize import word_tokenize\n",
    "import re"
   ]
  },
  {
   "cell_type": "code",
   "execution_count": 5,
   "id": "be5ac725",
   "metadata": {},
   "outputs": [],
   "source": [
    "stop_words = set(stopwords.words('english'))\n",
    "lemmatizer = WordNetLemmatizer()\n"
   ]
  },
  {
   "cell_type": "code",
   "execution_count": 6,
   "id": "a30b8135",
   "metadata": {},
   "outputs": [],
   "source": [
    "def preprocess_text(text):\n",
    "    # Text cleaning\n",
    "    text = re.sub(r'\\s+', ' ', text)  # Remove extra whitespaces\n",
    "    text = re.sub(r'\\W', ' ', text)  # Remove non-word characters\n",
    "    text = text.lower()  # Convert to lowercase\n",
    "    \n",
    "    # Tokenization\n",
    "    tokens = word_tokenize(text)\n",
    "    \n",
    "    # Stop word removal and lemmatization\n",
    "    filtered_tokens = [lemmatizer.lemmatize(token) for token in tokens if token not in stop_words]\n",
    "    \n",
    "    # Join the tokens back into a single string\n",
    "    preprocessed_text = ' '.join(filtered_tokens)\n",
    "    \n",
    "    return preprocessed_text\n",
    "\n",
    "data['preprocessed_body'] = data['body'].apply(preprocess_text)\n"
   ]
  },
  {
   "cell_type": "code",
   "execution_count": 7,
   "id": "48bf80a8",
   "metadata": {},
   "outputs": [],
   "source": [
    "# Split the data into training and testing sets\n",
    "X = data['preprocessed_body']\n",
    "y = data['To']\n",
    "X_train, X_test, y_train, y_test = train_test_split(X, y, test_size=0.2, random_state=42)\n"
   ]
  },
  {
   "cell_type": "code",
   "execution_count": 8,
   "id": "aaaf6fd6",
   "metadata": {},
   "outputs": [],
   "source": [
    "# Perform label encoding\n",
    "label_encoder = LabelEncoder()\n",
    "y_train_encoded = label_encoder.fit_transform(y_train)\n",
    "y_test_encoded = label_encoder.transform(y_test)"
   ]
  },
  {
   "cell_type": "code",
   "execution_count": 9,
   "id": "08fae6b3",
   "metadata": {},
   "outputs": [],
   "source": [
    "# Convert numpy arrays to pandas Series\n",
    "y_train_encoded = pd.Series(y_train_encoded)\n",
    "y_test_encoded = pd.Series(y_test_encoded)\n",
    "\n"
   ]
  },
  {
   "cell_type": "code",
   "execution_count": 10,
   "id": "36c4d98c",
   "metadata": {},
   "outputs": [],
   "source": [
    "# Reset indices\n",
    "X_train = X_train.reset_index(drop=True)\n",
    "X_test = X_test.reset_index(drop=True)\n",
    "y_train_encoded = y_train_encoded.reset_index(drop=True)\n",
    "y_test_encoded = y_test_encoded.reset_index(drop=True)"
   ]
  },
  {
   "cell_type": "code",
   "execution_count": 11,
   "id": "f6d258f9",
   "metadata": {},
   "outputs": [],
   "source": [
    "# Tokenize the text\n",
    "tokenizer = Tokenizer()\n",
    "tokenizer.fit_on_texts(X_train)\n",
    "\n",
    "X_train = tokenizer.texts_to_sequences(X_train)\n",
    "X_test = tokenizer.texts_to_sequences(X_test)\n",
    "\n",
    "vocab_size = len(tokenizer.word_index) + 1  # Add 1 for the padding token"
   ]
  },
  {
   "cell_type": "code",
   "execution_count": 12,
   "id": "d0d42868",
   "metadata": {},
   "outputs": [],
   "source": [
    "\n",
    "# Pad sequences\n",
    "max_length = 100  # Maximum sequence length\n",
    "X_train = pad_sequences(X_train, maxlen=max_length, padding='post')\n",
    "X_test = pad_sequences(X_test, maxlen=max_length, padding='post')"
   ]
  },
  {
   "cell_type": "code",
   "execution_count": 13,
   "id": "fd6f1409",
   "metadata": {},
   "outputs": [],
   "source": [
    "\n",
    "# Define the LSTM model\n",
    "model = Sequential()\n",
    "model.add(Embedding(vocab_size, 128, input_length=max_length))\n",
    "model.add(LSTM(128))\n",
    "model.add(Dense(len(label_encoder.classes_), activation='softmax'))\n",
    "\n",
    "# Compile the model\n",
    "model.compile(loss='sparse_categorical_crossentropy', optimizer='adam', metrics=['accuracy'])"
   ]
  },
  {
   "cell_type": "code",
   "execution_count": 22,
   "id": "fe335946",
   "metadata": {},
   "outputs": [
    {
     "name": "stdout",
     "output_type": "stream",
     "text": [
      "Epoch 1/10\n",
      "1452/1452 [==============================] - 182s 125ms/step - loss: 0.0487 - accuracy: 0.9866 - val_loss: 0.1012 - val_accuracy: 0.9697\n",
      "Epoch 2/10\n",
      "1452/1452 [==============================] - 182s 126ms/step - loss: 0.0313 - accuracy: 0.9914 - val_loss: 0.0960 - val_accuracy: 0.9730\n",
      "Epoch 3/10\n",
      "1452/1452 [==============================] - 183s 126ms/step - loss: 0.0289 - accuracy: 0.9908 - val_loss: 0.0893 - val_accuracy: 0.9767\n",
      "Epoch 4/10\n",
      "1452/1452 [==============================] - 186s 128ms/step - loss: 0.0213 - accuracy: 0.9937 - val_loss: 0.0987 - val_accuracy: 0.9736\n",
      "Epoch 5/10\n",
      "1452/1452 [==============================] - 183s 126ms/step - loss: 0.0143 - accuracy: 0.9954 - val_loss: 0.0937 - val_accuracy: 0.9778\n",
      "Epoch 6/10\n",
      "1452/1452 [==============================] - 183s 126ms/step - loss: 0.0103 - accuracy: 0.9964 - val_loss: 0.0996 - val_accuracy: 0.9769\n",
      "Epoch 7/10\n",
      "1452/1452 [==============================] - 180s 124ms/step - loss: 0.0156 - accuracy: 0.9952 - val_loss: 0.1190 - val_accuracy: 0.9733\n",
      "Epoch 8/10\n",
      "1452/1452 [==============================] - 174s 120ms/step - loss: 0.0139 - accuracy: 0.9955 - val_loss: 0.1000 - val_accuracy: 0.9793\n",
      "Epoch 9/10\n",
      "1452/1452 [==============================] - 170s 117ms/step - loss: 0.0075 - accuracy: 0.9969 - val_loss: 0.1000 - val_accuracy: 0.9804\n",
      "Epoch 10/10\n",
      "1452/1452 [==============================] - 174s 120ms/step - loss: 0.0069 - accuracy: 0.9972 - val_loss: 0.1044 - val_accuracy: 0.9800\n"
     ]
    },
    {
     "data": {
      "text/plain": [
       "<keras.callbacks.History at 0x1966261f400>"
      ]
     },
     "execution_count": 22,
     "metadata": {},
     "output_type": "execute_result"
    }
   ],
   "source": [
    "# Train the model\n",
    "batch_size = 16\n",
    "epochs = 10\n",
    "\n",
    "history = model.fit(X_train, y_train_encoded, batch_size=batch_size, epochs=epochs, validation_data=(X_test, y_test_encoded))\n",
    "history\n",
    "\n"
   ]
  },
  {
   "cell_type": "code",
   "execution_count": 23,
   "id": "646ca8cc",
   "metadata": {},
   "outputs": [
    {
     "data": {
      "image/png": "[encoded data removed]",
      "text/plain": [
       "<Figure size 640x480 with 1 Axes>"
      ]
     },
     "metadata": {},
     "output_type": "display_data"
    },
    {
     "data": {
      "image/png": "[encoded data removed]",
      "text/plain": [
       "<Figure size 640x480 with 1 Axes>"
      ]
     },
     "metadata": {},
     "output_type": "display_data"
    }
   ],
   "source": [
    "import matplotlib.pyplot as plt\n",
    "\n",
    "# Plot training and validation loss\n",
    "plt.plot(history.history['loss'], label='Training Loss')\n",
    "plt.plot(history.history['val_loss'], label='Validation Loss')\n",
    "plt.xlabel('Epochs')\n",
    "plt.ylabel('Loss')\n",
    "plt.title('Training and Validation Loss')\n",
    "plt.legend()\n",
    "plt.show()\n",
    "\n",
    "# Plot training and validation accuracy\n",
    "plt.plot(history.history['accuracy'], label='Training Accuracy')\n",
    "plt.plot(history.history['val_accuracy'], label='Validation Accuracy')\n",
    "plt.xlabel('Epochs')\n",
    "plt.ylabel('Accuracy')\n",
    "plt.title('Training and Validation Accuracy')\n",
    "plt.legend()\n",
    "plt.show()\n"
   ]
  },
  {
   "cell_type": "code",
   "execution_count": null,
   "id": "1a7d402e",
   "metadata": {},
   "outputs": [],
   "source": []
  },
  {
   "cell_type": "code",
   "execution_count": 27,
   "id": "c3e1a41a",
   "metadata": {},
   "outputs": [
    {
     "name": "stdout",
     "output_type": "stream",
     "text": [
      "182/182 [==============================] - 4s 22ms/step - loss: 0.1044 - accuracy: 0.9800\n",
      "Test Loss: 0.1043960303068161\n",
      "Test Accuracy: 0.9800206422805786\n"
     ]
    }
   ],
   "source": [
    "# Evaluate the model\n",
    "loss, accuracy = model.evaluate(X_test, y_test_encoded)\n",
    "print('Test Loss:', loss)\n",
    "print('Test Accuracy:', accuracy)"
   ]
  },
  {
   "cell_type": "code",
   "execution_count": 28,
   "id": "73323e2f",
   "metadata": {},
   "outputs": [
    {
     "name": "stdout",
     "output_type": "stream",
     "text": [
      "182/182 [==============================] - 4s 21ms/step\n",
      "Accuracy: 0.9800206682741991\n"
     ]
    }
   ],
   "source": [
    "# Generate predictions\n",
    "y_pred_prob = model.predict(X_test)\n",
    "y_pred_labels = label_encoder.inverse_transform(np.argmax(y_pred_prob, axis=1))\n",
    "# Convert y_test_encoded back to original labels\n",
    "y_test_labels = label_encoder.inverse_transform(y_test_encoded)\n",
    "from sklearn.metrics import accuracy_score\n",
    "\n",
    "accuracy = accuracy_score(y_test_labels, y_pred_labels)\n",
    "print(\"Accuracy:\", accuracy)\n"
   ]
  },
  {
   "cell_type": "code",
   "execution_count": 29,
   "id": "4e537f5e",
   "metadata": {},
   "outputs": [
    {
     "name": "stdout",
     "output_type": "stream",
     "text": [
      "Confusion Matrix:\n",
      "[[ 821    0    4    5    3]\n",
      " [   1 1767    1    0    0]\n",
      " [  13    0 1008   20    6]\n",
      " [   7    0   35 1112    5]\n",
      " [  13    0    1    2  982]]\n"
     ]
    }
   ],
   "source": [
    "from sklearn.metrics import confusion_matrix\n",
    "\n",
    "confusion_mat = confusion_matrix(y_test_labels, y_pred_labels)\n",
    "print(\"Confusion Matrix:\")\n",
    "print(confusion_mat)\n"
   ]
  },
  {
   "cell_type": "code",
   "execution_count": 30,
   "id": "1c7329ce",
   "metadata": {},
   "outputs": [
    {
     "name": "stdout",
     "output_type": "stream",
     "text": [
      "                           precision    recall  f1-score   support\n",
      "\n",
      "  jeff.dasovich@enron.com       0.96      0.99      0.97       833\n",
      "     pete.davis@enron.com       1.00      1.00      1.00      1769\n",
      "sara.shackleton@enron.com       0.96      0.96      0.96      1047\n",
      "     tana.jones@enron.com       0.98      0.96      0.97      1159\n",
      "        vkaminski@aol.com       0.99      0.98      0.98       998\n",
      "\n",
      "                 accuracy                           0.98      5806\n",
      "                macro avg       0.98      0.98      0.98      5806\n",
      "             weighted avg       0.98      0.98      0.98      5806\n",
      "\n",
      "Confusion Matrix:\n",
      "[[ 821    0    4    5    3]\n",
      " [   1 1767    1    0    0]\n",
      " [  13    0 1008   20    6]\n",
      " [   7    0   35 1112    5]\n",
      " [  13    0    1    2  982]]\n"
     ]
    }
   ],
   "source": [
    "\n",
    "\n",
    "# Generate classification report\n",
    "print(classification_report(y_test, y_pred_labels))\n",
    "\n",
    "# Generate confusion matrix\n",
    "cm = confusion_matrix(y_test, y_pred_labels)\n",
    "print('Confusion Matrix:')\n",
    "print(cm)"
   ]
  },
  {
   "cell_type": "code",
   "execution_count": null,
   "id": "fb507761",
   "metadata": {},
   "outputs": [],
   "source": []
  },
  {
   "cell_type": "code",
   "execution_count": 31,
   "id": "b8d048b8",
   "metadata": {},
   "outputs": [
    {
     "name": "stdout",
     "output_type": "stream",
     "text": [
      "1/1 [==============================] - 0s 19ms/step\n",
      "Predicted Recipient(s): ['sara.shackleton@enron.com']\n"
     ]
    }
   ],
   "source": [
    "sample_email = [\"I hope this email finds you well. I wanted to schedule a meeting to discuss the upcoming project. Please let me know your availability. Thank you.\"]\n",
    "preprocessed_sample = [preprocess_text(email) for email in sample_email]\n",
    "#Tokenize and pad the preprocessed sample email(s):\n",
    "\n",
    "sample_sequences = tokenizer.texts_to_sequences(preprocessed_sample)\n",
    "sample_padded = pad_sequences(sample_sequences, maxlen=max_length, padding='post')\n",
    "#Predict the recipient(s) using the trained model:\n",
    "predicted_classes = model.predict(sample_padded)\n",
    "predicted_labels = label_encoder.inverse_transform(predicted_classes.argmax(axis=1))\n",
    "print(\"Predicted Recipient(s):\", predicted_labels)\n"
   ]
  },
  {
   "cell_type": "code",
   "execution_count": 32,
   "id": "dadda06d",
   "metadata": {},
   "outputs": [
    {
     "name": "stdout",
     "output_type": "stream",
     "text": [
      "Body (2nd email): Any merit to mentioning that there has been an initial \"supply\" response in \n",
      "terms of pipeline infrastructure - open seasons/expansion efforts on behalf \n",
      "of Kern River, Transwestern and PGT (not yet announced)? \n",
      "\n",
      "\n",
      "From: Jeff Dasovich on 12/13/2000 12:04 PM\n",
      "Sent by: Jeff Dasovich\n",
      "To: Sarah Novosel/Corp/Enron@ENRON\n",
      "cc: Christi L Nicolay/HOU/ECT@ECT, James D Steffes/NA/Enron@ENRON, Joe \n",
      "Hartsoe/Corp/Enron@ENRON, Mary Hain/HOU/ECT@ECT, pallen@enron.com, \n",
      "pkaufma@enron.com, Richard B Sanders/HOU/ECT@ECT, Richard \n",
      "Shapiro/NA/Enron@ENRON, Stephanie Miller/Corp/Enron@ENRON, Steven J \n",
      "Kean/NA/Enron@ENRON, Susan J Mara/NA/Enron@ENRON \n",
      "\n",
      "Subject: Re: Enron Response to San Diego Request for Gas Price Caps  \n",
      "\n",
      "Recognizing the time constraints you face, I've tried to 1) clear up a few \n",
      "inaccuracies and 2) massage some of the sharper language without taking a \n",
      "chainsaw to the otherwise good job.  \n",
      "\n",
      "\n",
      "\n",
      "Original Recipient (2nd email): jeff.dasovich@enron.com\n"
     ]
    }
   ],
   "source": [
    "# Access the 2nd 'body' and 'To' values\n",
    "body_2 = data.loc[1, 'body']\n",
    "recipient_2 = data.loc[1, 'To']\n",
    "\n",
    "print(\"Body (2nd email):\", body_2)\n",
    "print(\"Original Recipient (2nd email):\", recipient_2)"
   ]
  },
  {
   "cell_type": "code",
   "execution_count": 33,
   "id": "c1b5df9d",
   "metadata": {},
   "outputs": [
    {
     "name": "stdout",
     "output_type": "stream",
     "text": [
      "1/1 [==============================] - 0s 19ms/step\n",
      "Predicted Recipient (2nd email): ['jeff.dasovich@enron.com']\n"
     ]
    }
   ],
   "source": [
    "#Preprocessing\n",
    "preprocessed_body_2 = preprocess_text(body_2)\n",
    "\n",
    "#Tokenize and pad the preprocessed body:\n",
    "body_2_sequence = tokenizer.texts_to_sequences([preprocessed_body_2])\n",
    "body_2_padded = pad_sequences(body_2_sequence, maxlen=max_length, padding='post')\n",
    "\n",
    "#Predict the recipient using the trained model:\n",
    "predicted_recipient_2 = model.predict(body_2_padded)\n",
    "predicted_label_2 = label_encoder.inverse_transform(predicted_recipient_2.argmax(axis=1))\n",
    "#Print the predicted recipient:\n",
    "print(\"Predicted Recipient (2nd email):\", predicted_label_2)\n"
   ]
  },
  {
   "cell_type": "code",
   "execution_count": null,
   "id": "7d30eabe",
   "metadata": {},
   "outputs": [],
   "source": []
  }
 ],
 "metadata": {
  "kernelspec": {
   "display_name": "Python 3 (ipykernel)",
   "language": "python",
   "name": "python3"
  },
  "language_info": {
   "codemirror_mode": {
    "name": "ipython",
    "version": 3
   },
   "file_extension": ".py",
   "mimetype": "text/x-python",
   "name": "python",
   "nbconvert_exporter": "python",
   "pygments_lexer": "ipython3",
   "version": "3.9.13"
  }
 },
 "nbformat": 4,
 "nbformat_minor": 5
}
